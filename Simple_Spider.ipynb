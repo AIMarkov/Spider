{
 "cells": [
  {
   "cell_type": "code",
   "execution_count": 3,
   "metadata": {},
   "outputs": [
    {
     "name": "stdout",
     "output_type": "stream",
     "text": [
      "url: https://movie.douban.com/top250?start=0\n",
      "i: 200\n",
      "url: https://movie.douban.com/top250?start=25\n",
      "i: 200\n",
      "url: https://movie.douban.com/top250?start=50\n",
      "i: 200\n",
      "url: https://movie.douban.com/top250?start=75\n",
      "i: 200\n",
      "url: https://movie.douban.com/top250?start=100\n",
      "i: 200\n",
      "url: https://movie.douban.com/top250?start=125\n",
      "i: 200\n",
      "url: https://movie.douban.com/top250?start=150\n",
      "i: 200\n",
      "url: https://movie.douban.com/top250?start=175\n",
      "i: 200\n",
      "url: https://movie.douban.com/top250?start=200\n",
      "i: 200\n",
      "url: https://movie.douban.com/top250?start=225\n",
      "i: 200\n"
     ]
    }
   ],
   "source": [
    "import requests\n",
    "for i in range(10):\n",
    "    url=\"https://movie.douban.com/top250?start=\"+str(i*25)\n",
    "    headers={\n",
    "    'user-agent':'Mozilla/5.0 (Windows NT 10.0; Win64; x64; rv:63.0) Gecko/20100101 Firefox/63.0',\n",
    "    \"Host\":'movie.douban.com'}\n",
    "    try:\n",
    "        r=requests.get(url,headers=headers)\n",
    "        print(\"url:\",url)\n",
    "        r.raise_for_status()\n",
    "        r.encoding=r.apparent_encoding\n",
    "        print('i:',r.status_code)\n",
    "    except:\n",
    "        print(\"产生异常\")\n",
    "\n",
    "        \n",
    "    \n",
    "   \n",
    "        \n",
    "    "
   ]
  },
  {
   "cell_type": "code",
   "execution_count": null,
   "metadata": {
    "collapsed": true
   },
   "outputs": [],
   "source": []
  }
 ],
 "metadata": {
  "kernelspec": {
   "display_name": "Python 3",
   "language": "python",
   "name": "python3"
  },
  "language_info": {
   "codemirror_mode": {
    "name": "ipython",
    "version": 3
   },
   "file_extension": ".py",
   "mimetype": "text/x-python",
   "name": "python",
   "nbconvert_exporter": "python",
   "pygments_lexer": "ipython3",
   "version": "3.6.3"
  }
 },
 "nbformat": 4,
 "nbformat_minor": 2
}
